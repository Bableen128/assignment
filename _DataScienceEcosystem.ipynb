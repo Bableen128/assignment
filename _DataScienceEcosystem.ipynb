{
 "cells": [
  {
   "cell_type": "markdown",
   "id": "4cd6decc-b07b-4d0b-8048-2824630b448d",
   "metadata": {},
   "source": [
    "# Data Science Tools and Ecosystem"
   ]
  },
  {
   "cell_type": "markdown",
   "id": "c97ee117-9204-437d-a656-0195a00d4ddb",
   "metadata": {},
   "source": [
    "### In this notebook, Data Science Tools and Ecosystem are summarized."
   ]
  },
  {
   "cell_type": "markdown",
   "id": "1f686249-67d1-42db-9683-d35aed089ab7",
   "metadata": {},
   "source": [
    "#### Some of the popular languages that Data Scientists use are:\n",
    "1. python\n",
    "2. R\n",
    "3. SQL"
   ]
  },
  {
   "cell_type": "markdown",
   "id": "0014b852-8b88-451e-a4f7-3109396202fa",
   "metadata": {},
   "source": [
    "#### Some of the commonly used libraries used by Data Scientists include:\n",
    "1. NumPy\n",
    "2. Pandas\n",
    "3. TensorFlow\n",
    "4. Seaborn"
   ]
  },
  {
   "cell_type": "markdown",
   "id": "dca14f12-3c66-4af0-aa37-def24536a99b",
   "metadata": {},
   "source": [
    "|Data Science Tools|\n",
    "|------------------|\n",
    "|Jupyter Notebook|\n",
    "|RStudio|\n",
    "|VS Code|"
   ]
  },
  {
   "cell_type": "markdown",
   "id": "e7cc6543-463c-42e2-9796-c09304f400a7",
   "metadata": {},
   "source": [
    "### Below are a few examples of evaluating arithmetic expressions in Python"
   ]
  },
  {
   "cell_type": "code",
   "execution_count": 30,
   "id": "63eb986d-034c-4b8c-b0c4-1a19f6727c44",
   "metadata": {},
   "outputs": [
    {
     "data": {
      "text/plain": [
       "17"
      ]
     },
     "execution_count": 30,
     "metadata": {},
     "output_type": "execute_result"
    }
   ],
   "source": [
    "#This a simple arithmetic expression to mutiply then add integers\n",
    "(3*4)+5"
   ]
  },
  {
   "cell_type": "code",
   "execution_count": 32,
   "id": "85719755-e1a5-4dc1-a4e2-f34c1c055f51",
   "metadata": {},
   "outputs": [
    {
     "data": {
      "text/plain": [
       "3.3333333333333335"
      ]
     },
     "execution_count": 32,
     "metadata": {},
     "output_type": "execute_result"
    }
   ],
   "source": [
    "#This will convert 200 minutes to hours by diving by 60\n",
    "hrs=200/60\n",
    "hrs"
   ]
  },
  {
   "cell_type": "markdown",
   "id": "ba739a41-812e-40cb-aec1-ca20f8cd4c68",
   "metadata": {},
   "source": [
    "**Objectives**\n",
    "* List popular languages for data science.\n",
    "* List commonly used libraries in data science\n",
    "* List tools used in data science using tables\n",
    "* Performing arithematic operation"
   ]
  },
  {
   "cell_type": "markdown",
   "id": "ec32ab24-22e4-4041-ac5a-90a52299306f",
   "metadata": {},
   "source": [
    "## Author\n",
    "Bableen Kaur"
   ]
  },
  {
   "cell_type": "code",
   "execution_count": null,
   "id": "15f5711d-0a6c-4417-9758-e088de481212",
   "metadata": {},
   "outputs": [],
   "source": []
  }
 ],
 "metadata": {
  "kernelspec": {
   "display_name": "Python 3 (ipykernel)",
   "language": "python",
   "name": "python3"
  },
  "language_info": {
   "codemirror_mode": {
    "name": "ipython",
    "version": 3
   },
   "file_extension": ".py",
   "mimetype": "text/x-python",
   "name": "python",
   "nbconvert_exporter": "python",
   "pygments_lexer": "ipython3",
   "version": "3.12.4"
  }
 },
 "nbformat": 4,
 "nbformat_minor": 5
}
